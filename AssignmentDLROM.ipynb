{
  "nbformat": 4,
  "nbformat_minor": 0,
  "metadata": {
    "colab": {
      "provenance": [],
      "include_colab_link": true
    },
    "kernelspec": {
      "name": "python3",
      "display_name": "Python 3"
    },
    "language_info": {
      "name": "python"
    }
  },
  "cells": [
    {
      "cell_type": "markdown",
      "metadata": {
        "id": "view-in-github",
        "colab_type": "text"
      },
      "source": [
        "<a href=\"https://colab.research.google.com/github/Mahshad-RM/MOR/blob/old/AssignmentDLROM.ipynb\" target=\"_parent\"><img src=\"https://colab.research.google.com/assets/colab-badge.svg\" alt=\"Open In Colab\"/></a>"
      ]
    },
    {
      "cell_type": "code",
      "execution_count": 47,
      "metadata": {
        "id": "I3ewb9OzLdKx"
      },
      "outputs": [],
      "source": [
        "try:\n",
        "     from dlroms import*\n",
        "except:\n",
        "     !pip install --no-deps git+https://github.com/NicolaRFranco/dlroms.git\n",
        "     from dlroms import*\n",
        "\n",
        "import numpy as np"
      ]
    },
    {
      "cell_type": "markdown",
      "source": [
        "##<font color=\"#FFD700\"> **Linear elasticity**: material design for a stunt training facility"
      ],
      "metadata": {
        "id": "FvsqXEt3OrVm"
      }
    },
    {
      "cell_type": "code",
      "source": [
        "# FOM discretization\n",
        "mesh = fe.unitsquaremesh(40, 40)\n",
        "Vh = fe.space(mesh, 'CG', 1, vector_valued = True)\n",
        "clc()"
      ],
      "metadata": {
        "id": "oqDSCcPTOsIA"
      },
      "execution_count": 48,
      "outputs": []
    },
    {
      "cell_type": "markdown",
      "source": [
        "####<font color= '#008080'>  Data Download and Load :"
      ],
      "metadata": {
        "id": "DUCau2MXEp1E"
      }
    },
    {
      "cell_type": "code",
      "source": [
        "# Dataset (parameters and FOM simulations)\n",
        "import gdown\n",
        "gdown.download(id = \"1XYPnIpVVc9jkd7LwMhC-FYoV2RTnTK8L\", output = \"floor.npz\")\n",
        "clc()\n",
        "\n",
        "data = np.load(\"floor.npz\")\n",
        "mu, u = dv.tensor(data['mu'], data['u'])"
      ],
      "metadata": {
        "id": "SSYhrLb9PBx7"
      },
      "execution_count": 49,
      "outputs": []
    },
    {
      "cell_type": "code",
      "source": [
        "# Auxiliary function for animation\n",
        "def animated_warp(u, Vh):\n",
        "  from dlroms.gifs import save as savegif\n",
        "  rnd = np.random.randint(50000)\n",
        "  def drawframe(i):\n",
        "    plt.figure(figsize = (4, 4))\n",
        "    fe.plot(u[i], Vh, axis = [-0.25, 1.25, -0.25, 1.25], warp = True)\n",
        "    plt.title(\"t = %.2f\" % (i*0.02))\n",
        "    plt.axis(\"off\")\n",
        "  savegif(drawframe, len(u), \"temp%d-gif\" % rnd)\n",
        "  from PIL import Image, ImageSequence\n",
        "  path = \"temp%d-gif.gif\" % rnd\n",
        "  with Image.open(path) as im:\n",
        "    frames = [frame.copy() for frame in ImageSequence.Iterator(im)]\n",
        "    frames[0].save(path, save_all=True, append_images=frames[1:], loop=0, duration=im.info.get('duration', 100))\n",
        "  from IPython.display import Image, display\n",
        "  display(Image(\"temp%d-gif.gif\" % rnd))\n",
        "  from os import remove\n",
        "  remove(\"temp%d-gif.gif\" % rnd)"
      ],
      "metadata": {
        "id": "_jTF-4UvPSHF"
      },
      "execution_count": 50,
      "outputs": []
    },
    {
      "cell_type": "code",
      "source": [
        "# First simulation in the dataset\n",
        "#animated_warp(u[0], Vh)"
      ],
      "metadata": {
        "id": "RLNGXYAEPZp_"
      },
      "execution_count": 51,
      "outputs": []
    },
    {
      "cell_type": "code",
      "source": [
        "# Fancy plot showing warping and displacement magnitude altogether\n",
        "\n",
        "which = 7 # First simulation\n",
        "\n",
        "ns, nt, nh = u.shape\n",
        "t = list(np.linspace(0, 1, nt))\n",
        "\n",
        "umod = u[which].reshape(nt, -1, 2).pow(2).sum(axis = -1).sqrt()\n",
        "plt.figure(figsize = (12, 4))\n",
        "for i, ti in enumerate([0, 10, 15]):\n",
        "  plt.subplot(1, 3, i+1)\n",
        "  warped_mesh = fe.warpmesh(u[which, ti], Vh)\n",
        "  delta = mu[which].item()\n",
        "  WVh = fe.space(warped_mesh, 'CG', 1)\n",
        "\n",
        "  fe.plot(umod[ti], WVh, levels = 30, vmin = umod.min(), vmax = umod.max(), colorbar = True, shrink = 0.4)\n",
        "  plt.axis([-0.25, 1.25, -0.25, 1.25])\n",
        "  plt.title(\"t = %.2f\" % t[ti])\n",
        "  plt.axis(\"off\")"
      ],
      "metadata": {
        "id": "JWMXdYHSPKYi",
        "colab": {
          "base_uri": "https://localhost:8080/",
          "height": 211
        },
        "outputId": "8213b9bf-004d-4443-9cbf-91ef82cff678"
      },
      "execution_count": 52,
      "outputs": [
        {
          "output_type": "display_data",
          "data": {
            "text/plain": [
              "<Figure size 1200x400 with 6 Axes>"
            ],
            "image/png": "[encoded data removed]"
          },
          "metadata": {}
        }
      ]
    },
    {
      "cell_type": "markdown",
      "source": [
        "####<font color= '#008080'>  Data Dimensions Printed:"
      ],
      "metadata": {
        "id": "FHt8s58bE5Ts"
      }
    },
    {
      "cell_type": "code",
      "source": [
        "ndata, ntimes, nh = u.shape\n",
        "p = mu.shape[-1]\n",
        "print(\"Trajectories:\\t%d.\" % ndata)\n",
        "print(\"Timesteps:\\t%d.\" % ntimes)\n",
        "print(\"FOM dimension:\\t%d.\" % nh)\n",
        "print(\"Parameters:\\t%d.\" % p)"
      ],
      "metadata": {
        "id": "RGmf3fJh88s8",
        "colab": {
          "base_uri": "https://localhost:8080/"
        },
        "outputId": "5a947461-ceb8-4fa3-f55e-703adb20ec34"
      },
      "execution_count": 53,
      "outputs": [
        {
          "output_type": "stream",
          "name": "stdout",
          "text": [
            "Trajectories:\t100.\n",
            "Timesteps:\t51.\n",
            "FOM dimension:\t3362.\n",
            "Parameters:\t1.\n"
          ]
        }
      ]
    },
    {
      "cell_type": "markdown",
      "source": [
        "#### Data Description\n",
        "100 full-order simulations with:\n",
        "- 51 time snapshots ($t=0$ to $t=1$ with $\\Delta t=0.02$)\n",
        "- 3362 spatial DoFs per snapshot ($\\in \\mathbb{R}^{3362}$)\n",
        "\n",
        "\n"
      ],
      "metadata": {
        "id": "Fg7GNBzq9uqU"
      }
    },
    {
      "cell_type": "markdown",
      "source": [
        "####<font color= '#008080'>  Time-Extended Parameter Tensor mut:"
      ],
      "metadata": {
        "id": "XHi5Wsg7D2bF"
      }
    },
    {
      "cell_type": "code",
      "source": [
        "mut = dv.zeros(ndata, ntimes, p+1)\n",
        "times = dv.tensor(np.linspace(0, 1, ntimes))\n",
        "for i in range(ndata):\n",
        "    mut[i,:,:p] = mu[i] # Corrected slice based on actual p\n",
        "    mut[i,:, p] = times # Assign times to the correct index"
      ],
      "metadata": {
        "id": "1jwJ_86twMbW"
      },
      "execution_count": 54,
      "outputs": []
    },
    {
      "cell_type": "markdown",
      "source": [
        "Each time slice of a trajectory contains:\n",
        "\n",
        "$$\n",
        "[\\mu_i, t_j]\n",
        "$$\n",
        "This is critical because ROM will likely use both parameter and time as input to predict displacement."
      ],
      "metadata": {
        "id": "jQ6AiyqeEZ9b"
      }
    },
    {
      "cell_type": "code",
      "source": [
        "u = u.reshape(-1, nh)\n",
        "u.shape"
      ],
      "metadata": {
        "id": "bF772eAkb4Wa",
        "colab": {
          "base_uri": "https://localhost:8080/"
        },
        "outputId": "ac57d0b1-81f1-482f-b7a4-2992a37cecf6"
      },
      "execution_count": 55,
      "outputs": [
        {
          "output_type": "execute_result",
          "data": {
            "text/plain": [
              "torch.Size([5100, 3362])"
            ]
          },
          "metadata": {},
          "execution_count": 55
        }
      ]
    },
    {
      "cell_type": "code",
      "source": [
        "mut = mut.reshape(-1, p+1)\n",
        "mut.shape"
      ],
      "metadata": {
        "id": "s59HAy1RwVnC",
        "colab": {
          "base_uri": "https://localhost:8080/"
        },
        "outputId": "22af9b3b-8652-47d0-b518-90f723bda170"
      },
      "execution_count": 56,
      "outputs": [
        {
          "output_type": "execute_result",
          "data": {
            "text/plain": [
              "torch.Size([5100, 2])"
            ]
          },
          "metadata": {},
          "execution_count": 56
        }
      ]
    },
    {
      "cell_type": "code",
      "source": [
        "l2 = L2(Vh)\n",
        "clc()\n",
        "\n",
        "def error(utrue, upred):\n",
        "    return (l2(utrue-upred).reshape(-1, nt).sum(axis = -1)/l2(utrue).reshape(-1, nt).sum(axis = -1)).mean()"
      ],
      "metadata": {
        "id": "vvl8LIxhgj5g"
      },
      "execution_count": 57,
      "outputs": []
    },
    {
      "cell_type": "markdown",
      "source": [
        "\n",
        "<mark>**DL-ROM**</mark></br>"
      ],
      "metadata": {
        "id": "KoDEZ6_Djcfc"
      }
    },
    {
      "cell_type": "markdown",
      "source": [
        "# Recap of the DL-ROM Steps\n",
        "Step | Description | Mapping\n",
        "--- | --- | ------------------\n",
        "**1. Autoencoder** | Learn a low-dimensional latent representation | $\\mathbf{u}(x,t) \\mapsto \\text{encoder} \\mapsto \\boldsymbol{z}(t) \\mapsto \\text{decoder} \\mapsto \\mathbf{u}(x,t)$\n",
        "**2. Regressor** | Learn how latent variables evolve with inputs | $(\\mu, t) \\mapsto \\phi(\\mu,t) \\mapsto \\boldsymbol{z}(t)$\n",
        "**3. Final ROM** | Full DL-ROM: parameter-to-solution prediction | $(\\mu, t) \\mapsto \\text{decoder}(\\phi(\\mu, t)) \\approx \\mathbf{u}(x,t)$"
      ],
      "metadata": {
        "id": "Ke7yliAdYn5G"
      }
    },
    {
      "cell_type": "code",
      "source": [
        "from torch.optim import Adam\n",
        "ntrain= 75*ntimes\n",
        "\n",
        "latent = 10  # good for starting\n",
        "\n",
        "# Use nn.Sequential or custom DFNN class\n",
        "encoder = Dense(nh, 200, gelu) + Dense(200, 100, gelu) + Dense(100, latent, None)\n",
        "decoder = Dense(latent, 100, gelu) + Dense(100, 200, gelu) + Dense(200, nh, None)\n",
        "\n",
        "autoencoder = DFNN(encoder + decoder)\n",
        "\n",
        "autoencoder.He()\n",
        "\n",
        "autoencoder.train(\n",
        "    u, u,\n",
        "    ntrain=ntrain,\n",
        "    epochs=500,\n",
        "    loss=mse(l2),\n",
        "    optim=Adam,\n",
        "    lr=1e-4,\n",
        "    batchsize=64\n",
        ")\n",
        "\n",
        "autoencoder.freeze()"
      ],
      "metadata": {
        "id": "tGinaUC_vY3_",
        "colab": {
          "base_uri": "https://localhost:8080/"
        },
        "outputId": "c7af7f85-7015-493d-dd8b-374d62e421d9"
      },
      "execution_count": 58,
      "outputs": [
        {
          "output_type": "stream",
          "name": "stdout",
          "text": [
            "\t\tTrain\t\tTest\n",
            "Epoch 500:\t5.69e-08\t5.58e-08.\n",
            "\n",
            ">> ETA: 4.10s.\n",
            "\n",
            "Training complete. Elapsed time: 34 minutes 11.31 seconds.\n"
          ]
        }
      ]
    },
    {
      "cell_type": "code",
      "source": [
        "print(\"Autoencoder MRE: %s\" % num2p(error(u[ntrain:], autoencoder(u[ntrain:]))))"
      ],
      "metadata": {
        "id": "Y3HegFw76jyp",
        "colab": {
          "base_uri": "https://localhost:8080/"
        },
        "outputId": "76690d2f-fadb-470c-8b71-f7230c78e8a9"
      },
      "execution_count": 59,
      "outputs": [
        {
          "output_type": "stream",
          "name": "stdout",
          "text": [
            "Autoencoder MRE: 1.29%\n"
          ]
        }
      ]
    },
    {
      "cell_type": "code",
      "source": [
        "nu = encoder(u)\n",
        "\n",
        "phi = DFNN(\n",
        "    Dense(2, 32, gelu) +\n",
        "    Dense(32, 32, gelu) +\n",
        "    Dense(32, latent, activation=None))\n",
        "\n",
        "phi.He()\n",
        "\n",
        "phi.train(mut, nu, ntrain = ntrain, epochs = 500, loss = mse(euclidean))\n",
        "\n",
        "phi.freeze()"
      ],
      "metadata": {
        "id": "9eTKyI2McvP1",
        "colab": {
          "base_uri": "https://localhost:8080/"
        },
        "outputId": "d02b765f-f6f6-44f1-cef2-709d21cb229b"
      },
      "execution_count": 60,
      "outputs": [
        {
          "output_type": "stream",
          "name": "stdout",
          "text": [
            "\t\tTrain\t\tTest\n",
            "Epoch 500:\t4.42e-04\t4.86e-04.\n",
            "\n",
            ">> ETA: 0.44s.\n",
            "\n",
            "Training complete. Elapsed time: 3 minutes 39.69 seconds.\n"
          ]
        }
      ]
    },
    {
      "cell_type": "code",
      "source": [
        "dlrom = lambda mt: decoder(phi(mt))\n",
        "num2p(error(u[ntrain:], dlrom(mut[ntrain:])))"
      ],
      "metadata": {
        "id": "YsgbD3hhdBfr",
        "colab": {
          "base_uri": "https://localhost:8080/",
          "height": 35
        },
        "outputId": "9b883fe0-7c7e-4168-cc51-8c609a45a9fd"
      },
      "execution_count": 61,
      "outputs": [
        {
          "output_type": "execute_result",
          "data": {
            "text/plain": [
              "'2.87%'"
            ],
            "application/vnd.google.colaboratory.intrinsic+json": {
              "type": "string"
            }
          },
          "metadata": {},
          "execution_count": 61
        }
      ]
    },
    {
      "cell_type": "code",
      "source": [
        "# Reshape to (nsim, nt, nh)\n",
        "u = u.reshape(ndata, ntimes, nh)"
      ],
      "metadata": {
        "id": "2s0QmvhsgBCS"
      },
      "execution_count": 62,
      "outputs": []
    },
    {
      "cell_type": "markdown",
      "source": [
        "# Autoencoder Configuration Table\n",
        "\n",
        "| Config | Encoder Layers | Decoder Layers | Latent Dim | Epochs | LR | Batch | Loss | Train Error | Test Error | MRE |\n",
        "|---|---|---|---|---|---|---|---|---|---|---|\n",
        "| 1 | 50→5 | 5→50→100→nh | 5 | 20 | 1e-3 | - | MSE (L2) | 2.61e-03 | 2.18e-03 | 5.52% |\n",
        "| 2 | 100→50→5 | 5→50→100→nh | 5 | 20 | 1e-3 | - | MSE (L2) | 6.50e-03 | 5.86e-03 | 9.11% |\n",
        "| 3 | 256→128→5 | 5→256→64→nh | 5 | 50 | 1e-3 | - | MSE (L2) | 5.08e-03 | 4.47e-03 | 7.70% |\n",
        "| 4 | 200→100→5 | 5→100→200→nh | 5 | 500 | 1e-4 | 64 | MSE (L2) | 1.10e-07 | 1.07e-07 | 1.78% |\n",
        "| **5 (BEST)** | **200→100→10** | **10→100→200→nh** | **10** | **500** | **1e-4** | **64** | **MSE (L2)** | **5.69e-08** | **5.58e-08** | **1.29%** |\n",
        "\n",
        "#  DL-ROM Configuration Table\n",
        "\n",
        "| Config | Phi Network Layers | Latent Dim | Epochs | Loss | Train Error | Test Error | MRE |\n",
        "|---|---|---|---|---|---|---|---|\n",
        "| 1 | 128→128→64→5 | 5 | 500 | MSE (L2) | 1.39e-04 | 1.40e-04 | 6.87% |\n",
        "| 2 | 128→128→64→5 | 5 | 500 | MSE (L2) | 1.21e-04 | 1.20e-04 | 11.71% |\n",
        "| 3 | 50→50→5 | 5 | 500 | MSE (L2) | 6.08e-04 | 7.29e-04 | 9.22% |\n",
        "| 4 | 100→100→5 | 5 | 500 | MSE (L2) | 6.08e-04 | 7.29e-04 | 3.22% |\n",
        "| **5 (BEST)** | **100→100→10** | **10** | **500** | **MSE (L2)** | **4.42e-04** | **4.86e-04** | **2.87%** |\n",
        "\n"
      ],
      "metadata": {
        "id": "kPBeA9pNmoWt"
      }
    },
    {
      "cell_type": "markdown",
      "source": [
        "<mark>**POD+Autoencoder ROM Construction**</mark></br>\n",
        "\n",
        "The code below implements and trains a POD-enhanced Autoencoder (POD+AE) model to compress and reconstruct high-dimensional displacement trajectories. The approximation structure is:\n",
        "$$\n",
        "\\mathbf{u} \\approx \\text{decoder}(\\text{encoder}(\\mathbf{u}))\n",
        "$$\n",
        "This is achieved through the following stages:\n",
        "\n",
        "* **POD projection:** $\\mathbf{u} \\mapsto \\mathbf{V}^T \\mathbf{u}$, which reduces the original spatial dimension $N_h$ to a reduced order $n_r$\n",
        "* **Autoencoder compression:** $\\text{encoder} = \\psi' \\circ \\mathbf{V}^T$, $\\text{decoder} = \\mathbf{V} \\circ \\psi$, where $\\psi'$ and $\\psi$ are small neural networks that map between the reduced POD space and a lower-dimensional latent space $n$\n",
        "* **Latent regression:** A separate regressor $\\phi(\\mu, t)$ maps physical parameters (e.g., material thickness $\\delta$, time $t$) directly to the latent space\n",
        "\n",
        "By combining these steps, we obtain a DL-ROM that provides fast and accurate predictions of the displacement field for any given parameter-time input."
      ],
      "metadata": {
        "id": "ImN02hEsnyZX"
      }
    },
    {
      "cell_type": "code",
      "source": [
        "from scipy.linalg import svd\n",
        "u = u.reshape(-1, nh)\n",
        "\n",
        "nr = 50\n",
        "V = dv.tensor(svd(u[:ntrain].T.cpu().numpy(), full_matrices = False)[0][:, :nr]) ### <--- POD basis for POD-AE\n",
        "ur = u @ V"
      ],
      "metadata": {
        "id": "Vf78HG33q8OZ"
      },
      "execution_count": 63,
      "outputs": []
    },
    {
      "cell_type": "code",
      "source": [
        "from torch import tanh\n",
        "rho = lambda x: tanh(0.1*x) ### <-- smooth activation that bounds the dynamics within [-1,1]^n\n",
        "\n",
        "latent = 10\n",
        "small_encoder = (\n",
        "    Dense(nr, 100, gelu) +\n",
        "    Dense(100, 100, gelu) +\n",
        "    Dense(100, latent, gelu)\n",
        ")\n",
        "\n",
        "small_decoder = (\n",
        "    Dense(latent, 100, gelu) +\n",
        "    Dense(100, 100, gelu) +\n",
        "    Dense(100, nr, activation=None)\n",
        ")\n",
        "\n",
        "small_ae = DFNN(small_encoder + small_decoder) ### <--- inner AE module, combining the \"small encoder\" and \"small decoder\"\n",
        "\n",
        "small_ae.unfreeze()\n",
        "small_ae.He()\n",
        "\n",
        "small_ae.train(ur, ur, loss = mse(euclidean), ntrain = ntrain, epochs = 700, lr = 1e-4)\n",
        "\n",
        "small_ae.freeze()\n",
        "from dlroms.dnns import Matrix\n",
        "\n",
        "encoder = Matrix(V.T) + small_encoder\n",
        "decoder = small_decoder + Matrix(V)\n",
        "ae = encoder + decoder\n",
        "print(\"Autoencoder MRE: %s\" % num2p(error(u[ntrain:], ae(u[ntrain:]))))\n",
        "print(\"Autoencoder MRE: %s\" % num2p(error(u[:ntrain], ae(u[:ntrain]))))"
      ],
      "metadata": {
        "id": "yfP7awDSsEBj",
        "colab": {
          "base_uri": "https://localhost:8080/"
        },
        "outputId": "4121dc1f-dc19-4dd4-f716-5a47cdd22813"
      },
      "execution_count": 74,
      "outputs": [
        {
          "output_type": "stream",
          "name": "stdout",
          "text": [
            "\t\tTrain\t\tTest\n",
            "Epoch 700:\t4.47e-03\t4.15e-03.\n",
            "\n",
            ">> ETA: 0.97s.\n",
            "\n",
            "Training complete. Elapsed time: 11 minutes 18.98 seconds.\n",
            "Autoencoder MRE: 7.21%\n",
            "Autoencoder MRE: 7.41%\n"
          ]
        }
      ]
    },
    {
      "cell_type": "code",
      "source": [
        "nu = encoder(u)\n",
        "phi = DFNN(Dense(p + 1, 128, gelu) +\n",
        "      Dense(128, 128, gelu) +\n",
        "      Dense(128, 64, gelu) +\n",
        "      Dense(64, latent, activation=None))\n",
        "phi.He()\n",
        "phi.train(mut, nu, ntrain = ntrain, epochs = 400, loss = mse(euclidean))\n",
        "phi.freeze()\n",
        "dlrom = lambda mt: decoder(phi(mt))\n",
        "num2p(error(u[ntrain:], dlrom(mut[ntrain:])))"
      ],
      "metadata": {
        "id": "NdZjewb9vdQB",
        "colab": {
          "base_uri": "https://localhost:8080/",
          "height": 139
        },
        "outputId": "efdedc54-5853-45ff-bc89-91f0a8fa31be"
      },
      "execution_count": 75,
      "outputs": [
        {
          "output_type": "stream",
          "name": "stdout",
          "text": [
            "\t\tTrain\t\tTest\n",
            "Epoch 400:\t1.12e-03\t1.61e-03.\n",
            "\n",
            ">> ETA: 0.71s.\n",
            "\n",
            "Training complete. Elapsed time: 4 minutes 43.57 seconds.\n"
          ]
        },
        {
          "output_type": "execute_result",
          "data": {
            "text/plain": [
              "'7.58%'"
            ],
            "application/vnd.google.colaboratory.intrinsic+json": {
              "type": "string"
            }
          },
          "metadata": {},
          "execution_count": 75
        }
      ]
    },
    {
      "cell_type": "markdown",
      "source": [
        "## Autoencoder Configurations\n",
        "\n",
        "| Config ID | Layers | Latent Dim | Activation | Epochs | LR | Train Error | Test Error | Train MRE | Test MRE | Training Time | Notes |\n",
        "|---|---|---|---|---|---|---|---|---|---|---|---|\n",
        "| AE-1 | 100→200→100→5 | 5 | gelu | 700 | 1e-4 | 4.00e-03 | 3.53e-03 | 7.37% | 7.03% | 24m53s | Original deep config |\n",
        "| AE-2 | 100→100→5 | 5 | gelu | 700 | 1e-4 | 9.62e-03 | 8.33e-03 | 11.39% | 10.66% | 10m55s | Simplified architecture |\n",
        "| AE-3 | 100→100→10 | 10 | gelu | 700 | 1e-4 | 4.47e-03 | 4.15e-03 | 7.41% | 7.21% | 11m19s | Increased latent dim |\n",
        "\n",
        "## DL-ROM Configurations\n",
        "\n",
        "| Config ID | Layers | Latent Dim | Activation | Epochs | LR | Train Error | Test Error | MRE | Training Time | Notes |\n",
        "|---|---|---|---|---|---|---|---|---|---|---|\n",
        "| DL-1 | 16→5 | 5 | gelu/None | 400 | 1e-4 | 2.32e-03 | 2.12e-03 | 11.46% | 2m44s| Basic configuration |\n",
        "| DL-2 | 50→5 | 5 | gelu/None | 400 | 1e-4 | 4.65e-03 | 4.48e-03 | 12.07% | 1m15s | Wider first layer |\n",
        "| DL-3 | 128→128→64→10 | 10 | gelu/None | 400 | 1e-4 | 1.12e-03 | 1.61e-03 | 7.58% | 4m44s | Deeper network |\n",
        "\n"
      ],
      "metadata": {
        "id": "tgo8zhNlWXbI"
      }
    }
  ]
}